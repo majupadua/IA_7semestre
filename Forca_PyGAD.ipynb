{
  "nbformat": 4,
  "nbformat_minor": 0,
  "metadata": {
    "kernelspec": {
      "display_name": "Python 3",
      "language": "python",
      "name": "python3"
    },
    "language_info": {
      "codemirror_mode": {
        "name": "ipython",
        "version": 3
      },
      "file_extension": ".py",
      "mimetype": "text/x-python",
      "name": "python",
      "nbconvert_exporter": "python",
      "pygments_lexer": "ipython3",
      "version": "3.7.4"
    },
    "colab": {
      "provenance": [],
      "include_colab_link": true
    }
  },
  "cells": [
    {
      "cell_type": "markdown",
      "metadata": {
        "id": "view-in-github",
        "colab_type": "text"
      },
      "source": [
        "<a href=\"https://colab.research.google.com/github/majupadua/IA_7semestre/blob/main/Forca_PyGAD.ipynb\" target=\"_parent\"><img src=\"https://colab.research.google.com/assets/colab-badge.svg\" alt=\"Open In Colab\"/></a>"
      ]
    },
    {
      "cell_type": "markdown",
      "metadata": {
        "id": "40b90843"
      },
      "source": [
        "<img src=\"http://meusite.mackenzie.br/rogerio/mackenzie_logo/UPM.2_horizontal_vermelho.jpg\"  width=300, align=\"right\">\n",
        "<br>\n",
        "<br>\n",
        "<br>\n",
        "<br>\n",
        "<br>\n",
        "\n",
        "# **Algoritmos Genéticos**\n",
        "---\n"
      ]
    },
    {
      "cell_type": "code",
      "metadata": {
        "id": "rYx9D4GZA5o9",
        "cellView": "form"
      },
      "source": [
        "#@title **Identificação do Grupo**\n",
        "\n",
        "#@markdown Integrantes do Grupo, nome completo em orgem alfabética (*informe \\<RA\\>,\\<nome\\>*)\n",
        "Aluno1 = '10402554, Gabriella Braz' #@param {type:\"string\"}\n",
        "Aluno2 = '10402264, Giovana Liao' #@param {type:\"string\"}\n",
        "Aluno3 = '10400630, Maria Julia de Pádua ' #@param {type:\"string\"}\n",
        "\n",
        "\n"
      ],
      "execution_count": null,
      "outputs": []
    },
    {
      "cell_type": "code",
      "source": [
        "#@title **Escolha a opção de Exercício Selecionado**\n",
        "Exercicio_selecionado = \"Exercício B. Forca\" #@param [\"Exercício A. Otimização multi-objetivo\", \"Exercício B. Forca\"]\n",
        "\n",
        "\n"
      ],
      "metadata": {
        "id": "-MbC50IHTmh3",
        "cellView": "form"
      },
      "execution_count": null,
      "outputs": []
    },
    {
      "cell_type": "markdown",
      "source": [
        "# **Resumo**\n",
        "\n",
        "Este trabalho usa um algoritmo genético para resolver o jogo da Forca com a biblioteca PyGAD. O objetivo é descobrir a palavra secreta por meio de tentativas evolutivas, onde as melhores soluções são selecionadas e melhoradas a cada geração. O processo usa seleção, cruzamento e mutação para formar novas palavras, aproximando-se da resposta correta. O desempenho é analisado com diferentes configurações e gráficos de convergência."
      ],
      "metadata": {
        "id": "yxYbSf6mVM7y"
      }
    },
    {
      "cell_type": "markdown",
      "source": [
        "# **Descrição da Solução**\n",
        "\n",
        "**Representação das soluções:**\n",
        "\n",
        "- Cada possível solução é uma sequência de números, onde cada número representa uma letra do alfabeto.\n",
        "\n",
        "**Função de Aptidão (Fitness):**\n",
        "\n",
        "- Compara cada solução com a palavra secreta.\n",
        "\n",
        "- Cada letra correta na posição certa soma 1 ponto.\n",
        "\n",
        "**Crossover (Recombinação):**\n",
        "\n",
        "- Pais são combinados para criar novas soluções.\n",
        "\n",
        "- Ajuda a misturar boas características das soluções anteriores.\n",
        "\n",
        "**Mutação:**\n",
        "\n",
        "- Pequenas mudanças aleatórias em algumas letras.\n",
        "\n",
        "- Ajuda a explorar novas possibilidades e evitar que o algoritmo fique preso.\n",
        "\n",
        "**Seleção:**\n",
        "\n",
        "- As melhores soluções são escolhidas para continuar na próxima geração.\n",
        "\n",
        "- Quanto melhor a solução, maior a chance de ser escolhida.\n",
        "\n",
        "**Uso do PyGAD:**\n",
        "\n",
        "- Facilita a implementação do algoritmo genético.\n",
        "\n",
        "- Define parâmetros como número de gerações, população e taxa de mutação.\n",
        "\n",
        "- Executa a evolução automaticamente."
      ],
      "metadata": {
        "id": "ARPbfXlAUmyW"
      }
    },
    {
      "cell_type": "markdown",
      "source": [
        "# **Implementação**\n",
        "\n"
      ],
      "metadata": {
        "id": "FyFHbT8vygVp"
      }
    },
    {
      "cell_type": "markdown",
      "source": [
        "# PyGDA para solucionar o jogo Forca\n",
        "\n"
      ],
      "metadata": {
        "id": "rJM0qfMXlvY3"
      }
    },
    {
      "cell_type": "markdown",
      "source": [
        "Instalação da biblioteca PyGAD"
      ],
      "metadata": {
        "id": "R02im1j_p-Ym"
      }
    },
    {
      "cell_type": "code",
      "source": [
        "!pip install pygad"
      ],
      "metadata": {
        "id": "47WSkdIDxpjM",
        "outputId": "86a9baa1-2741-4c98-d26d-cb84139a76a6",
        "colab": {
          "base_uri": "https://localhost:8080/"
        }
      },
      "execution_count": 9,
      "outputs": [
        {
          "output_type": "stream",
          "name": "stdout",
          "text": [
            "Requirement already satisfied: pygad in /usr/local/lib/python3.11/dist-packages (3.4.0)\n",
            "Requirement already satisfied: cloudpickle in /usr/local/lib/python3.11/dist-packages (from pygad) (3.1.1)\n",
            "Requirement already satisfied: matplotlib in /usr/local/lib/python3.11/dist-packages (from pygad) (3.10.0)\n",
            "Requirement already satisfied: numpy in /usr/local/lib/python3.11/dist-packages (from pygad) (2.0.2)\n",
            "Requirement already satisfied: contourpy>=1.0.1 in /usr/local/lib/python3.11/dist-packages (from matplotlib->pygad) (1.3.1)\n",
            "Requirement already satisfied: cycler>=0.10 in /usr/local/lib/python3.11/dist-packages (from matplotlib->pygad) (0.12.1)\n",
            "Requirement already satisfied: fonttools>=4.22.0 in /usr/local/lib/python3.11/dist-packages (from matplotlib->pygad) (4.56.0)\n",
            "Requirement already satisfied: kiwisolver>=1.3.1 in /usr/local/lib/python3.11/dist-packages (from matplotlib->pygad) (1.4.8)\n",
            "Requirement already satisfied: packaging>=20.0 in /usr/local/lib/python3.11/dist-packages (from matplotlib->pygad) (24.2)\n",
            "Requirement already satisfied: pillow>=8 in /usr/local/lib/python3.11/dist-packages (from matplotlib->pygad) (11.1.0)\n",
            "Requirement already satisfied: pyparsing>=2.3.1 in /usr/local/lib/python3.11/dist-packages (from matplotlib->pygad) (3.2.3)\n",
            "Requirement already satisfied: python-dateutil>=2.7 in /usr/local/lib/python3.11/dist-packages (from matplotlib->pygad) (2.8.2)\n",
            "Requirement already satisfied: six>=1.5 in /usr/local/lib/python3.11/dist-packages (from python-dateutil>=2.7->matplotlib->pygad) (1.17.0)\n"
          ]
        }
      ]
    },
    {
      "cell_type": "markdown",
      "source": [
        "### Mapeamento de Caracteres  \n",
        "\n",
        "Nesta parte do código, criamos um mapeamento entre letras do alfabeto e números inteiros.  \n",
        "\n",
        "- `alfabeto`: Lista contendo todas as letras maiúsculas de A a Z.  \n",
        "- `char_para_int`: Dicionário que associa cada letra a um número (A = 0, B = 1, ..., Z = 25).  \n",
        "- `int_para_char`: Dicionário inverso, que converte números de volta para letras.  \n",
        "\n",
        "Esse mapeamento é essencial para representar as palavras como números, permitindo que o algoritmo genético manipule os genes de forma eficiente."
      ],
      "metadata": {
        "id": "Z0Ry9RtunFea"
      }
    },
    {
      "cell_type": "code",
      "source": [
        "import string\n",
        "import pygad\n",
        "import matplotlib.pyplot as plt\n",
        "\n",
        "alfabeto = list(string.ascii_uppercase)\n",
        "char_para_int = {char: idx for idx, char in enumerate(alfabeto)}\n",
        "int_para_char = {idx: char for idx, char in enumerate(alfabeto)}\n"
      ],
      "metadata": {
        "id": "Mj6Xldlrl2dd"
      },
      "execution_count": 30,
      "outputs": []
    },
    {
      "cell_type": "markdown",
      "source": [
        "## Codificação da Palavra\n",
        "Como o algoritmo genético trabalha melhor com números, convertemos letras em valores numéricos.\n"
      ],
      "metadata": {
        "id": "l0haLPEqn5WE"
      }
    },
    {
      "cell_type": "code",
      "source": [
        "def codificar_palavra(palavra):\n",
        "    return [char_para_int[c] for c in palavra]"
      ],
      "metadata": {
        "id": "Rk408lM8it1u"
      },
      "execution_count": 31,
      "outputs": []
    },
    {
      "cell_type": "markdown",
      "source": [
        "### Função de Aptidão e Execução do Algoritmo  \n",
        "\n",
        "Nesta parte do código, definimos a **função de aptidão** e a **execução do algoritmo genético** para encontrar a palavra secreta.  \n",
        "\n",
        "**Função de Aptidão**  \n",
        "   - Avalia quão próxima uma solução está da palavra secreta, contando quantas letras estão corretas na posição correta.  \n",
        "   \n",
        "**Função `rodar_algoritmo`**  \n",
        "   - Converte a palavra secreta em números para facilitar a manipulação.  \n",
        "   - Configura o algoritmo genético com parâmetros como número de gerações, tamanho da população e tipo de seleção.  \n",
        "   - Executa o GA e obtém a melhor solução encontrada.  \n",
        "   - Converte a solução numérica de volta para letras.  \n",
        "   - Plota um gráfico mostrando a evolução da pontuação ao longo das gerações.  \n",
        "   - Exibe no console a palavra secreta, a melhor palavra encontrada e a pontuação final.  "
      ],
      "metadata": {
        "id": "9jKr3v5QoApI"
      }
    },
    {
      "cell_type": "code",
      "source": [
        "def funcao_aptidao(ga_instance, solucao, solucao_idx):\n",
        "    return sum(1 for i in range(len(solucao)) if solucao[i] == palavra_secreta_codificada[i])\n",
        "\n",
        "def rodar_algoritmo(palavra, num_geracoes=300, populacao=50):\n",
        "    global palavra_secreta_codificada\n",
        "    palavra_secreta_codificada = codificar_palavra(palavra)\n",
        "\n",
        "    ga = pygad.GA(\n",
        "        num_generations=num_geracoes,\n",
        "        num_parents_mating=8,\n",
        "        fitness_func=funcao_aptidao,\n",
        "        sol_per_pop=populacao,\n",
        "        num_genes=len(palavra),\n",
        "        gene_space=list(range(len(alfabeto))),\n",
        "        mutation_percent_genes=10,\n",
        "        parent_selection_type=\"sss\",\n",
        "        keep_parents=2\n",
        "    )\n",
        "\n",
        "    ga.run()\n",
        "\n",
        "    solucao, pontuacao, _ = ga.best_solution()\n",
        "    palavra_encontrada = \"\".join(int_para_char[int(g)] for g in solucao)\n",
        "\n",
        "    plt.plot(ga.best_solutions_fitness)\n",
        "    plt.xlabel(\"Geração\")\n",
        "    plt.ylabel(\"Pontuação (letras corretas)\")\n",
        "    plt.title(f\"Evolução da Solução - Palavra: {palavra}\")\n",
        "    plt.show()\n",
        "\n",
        "    print(f\"Palavra secreta: {palavra}\")\n",
        "    print(f\"Melhor palavra encontrada: {palavra_encontrada}\")\n",
        "    print(f\"Pontuação: {pontuacao}/{len(palavra)}\\n\")\n"
      ],
      "metadata": {
        "id": "RFNmj8CKoCKm"
      },
      "execution_count": 33,
      "outputs": []
    },
    {
      "cell_type": "markdown",
      "source": [
        "# **Resultados (Testes)**\n"
      ],
      "metadata": {
        "id": "vO9xbwBTJDQ7"
      }
    },
    {
      "cell_type": "markdown",
      "source": [
        "## Teste 1: Palavra curta - \"MEU\"\n",
        "\n",
        "Nesta simulação, escolhemos uma palavra curta de 3 letras para testar a rapidez do algoritmo.\n",
        "Esperamos que a convergência ocorra rapidamente, pois há poucas combinações possíveis.\n"
      ],
      "metadata": {
        "id": "BEOoLf0DmCVx"
      }
    },
    {
      "cell_type": "code",
      "source": [
        "rodar_algoritmo(\"MEU\", num_geracoes=100, populacao=30)"
      ],
      "metadata": {
        "id": "mVf_l2YTJPXY",
        "outputId": "9ba13391-bea2-4cff-be66-82b8079fc182",
        "colab": {
          "base_uri": "https://localhost:8080/",
          "height": 541
        }
      },
      "execution_count": 35,
      "outputs": [
        {
          "output_type": "display_data",
          "data": {
            "text/plain": [
              "<Figure size 640x480 with 1 Axes>"
            ],
            "image/png": "[encoded data removed]"
          },
          "metadata": {}
        },
        {
          "output_type": "stream",
          "name": "stdout",
          "text": [
            "Palavra secreta: MEU\n",
            "Melhor palavra encontrada: MEU\n",
            "Pontuação: 3/3\n",
            "\n"
          ]
        }
      ]
    },
    {
      "cell_type": "markdown",
      "source": [
        "## Teste 2: Palavra média - \"GATO\"\n",
        "\n",
        "Agora usamos uma palavra de 4 letras, aumentando a complexidade. O espaço de busca cresce,\n",
        "mas o algoritmo ainda deve convergir relativamente rápido.\n"
      ],
      "metadata": {
        "id": "FREiNlDfmKA8"
      }
    },
    {
      "cell_type": "code",
      "source": [
        "rodar_algoritmo(\"GATO\", num_geracoes=200, populacao=40)"
      ],
      "metadata": {
        "id": "AVK2ZezLmNE9",
        "outputId": "241bbb1f-d4a3-42d2-ae00-2a8beca37be3",
        "colab": {
          "base_uri": "https://localhost:8080/",
          "height": 541
        }
      },
      "execution_count": 25,
      "outputs": [
        {
          "output_type": "display_data",
          "data": {
            "text/plain": [
              "<Figure size 640x480 with 1 Axes>"
            ],
            "image/png": "[encoded data removed]"
          },
          "metadata": {}
        },
        {
          "output_type": "stream",
          "name": "stdout",
          "text": [
            "Palavra secreta: GATO\n",
            "Melhor palavra encontrada: GATO\n",
            "Pontuação: 4/4\n",
            "\n"
          ]
        }
      ]
    },
    {
      "cell_type": "markdown",
      "source": [
        "## Teste 3: Palavra maior - \"PYTHON\"\n",
        "\n",
        "Aqui usamos a palavra do código original. Como tem 6 letras, exigirá mais gerações para convergir.\n",
        "Este é um bom teste para verificar a efetividade do algoritmo com uma configuração realista.\n"
      ],
      "metadata": {
        "id": "GvmaY35BmP0r"
      }
    },
    {
      "cell_type": "code",
      "source": [
        "rodar_algoritmo(\"PYTHON\", num_geracoes=300, populacao=50)"
      ],
      "metadata": {
        "id": "KfUw5z-tmSgj",
        "outputId": "18ead8b1-f3af-471b-ae4d-aab8190912e9",
        "colab": {
          "base_uri": "https://localhost:8080/",
          "height": 541
        }
      },
      "execution_count": 26,
      "outputs": [
        {
          "output_type": "display_data",
          "data": {
            "text/plain": [
              "<Figure size 640x480 with 1 Axes>"
            ],
            "image/png": "[encoded data removed]"
          },
          "metadata": {}
        },
        {
          "output_type": "stream",
          "name": "stdout",
          "text": [
            "Palavra secreta: PYTHON\n",
            "Melhor palavra encontrada: PYTHON\n",
            "Pontuação: 5/6\n",
            "\n"
          ]
        }
      ]
    },
    {
      "cell_type": "markdown",
      "source": [
        "## Teste 4: Palavra longa - \"ALGORITMO\"\n",
        "\n",
        "Neste último teste, usamos uma palavra de 9 letras, tornando o espaço de busca ainda maior.\n",
        "Será interessante observar como a convergência ocorre e se a solução ótima é encontrada.\n"
      ],
      "metadata": {
        "id": "e73GQVEgmV5e"
      }
    },
    {
      "cell_type": "code",
      "source": [
        "rodar_algoritmo(\"ALGORITMO\", num_geracoes=500, populacao=70)"
      ],
      "metadata": {
        "id": "qjX8LDN1mX-z",
        "outputId": "313c3d0a-7104-469f-812f-dc6b0e95e3e2",
        "colab": {
          "base_uri": "https://localhost:8080/",
          "height": 541
        }
      },
      "execution_count": 27,
      "outputs": [
        {
          "output_type": "display_data",
          "data": {
            "text/plain": [
              "<Figure size 640x480 with 1 Axes>"
            ],
            "image/png": "[encoded data removed]"
          },
          "metadata": {}
        },
        {
          "output_type": "stream",
          "name": "stdout",
          "text": [
            "Palavra secreta: ALGORITMO\n",
            "Melhor palavra encontrada: ALGORITMO\n",
            "Pontuação: 9/9\n",
            "\n"
          ]
        }
      ]
    },
    {
      "cell_type": "markdown",
      "source": [
        "# Conclusão\n",
        "\n",
        "Os testes mostraram que:\n",
        "- Palavras curtas são descobertas rapidamente, geralmente em menos de 100 gerações.\n",
        "- Conforme a palavra cresce, a convergência fica mais lenta, exigindo mais gerações e uma população maior.\n",
        "- Para palavras maiores, o AG pode encontrar soluções próximas da correta, mas precisa de ajustes na mutação e no tamanho da população para garantir melhores resultados.\n",
        "\n",
        "Esse estudo mostra a eficácia dos Algoritmos Genéticos em resolver problemas de otimização simbólica,\n",
        "mas também destaca suas limitações conforme a complexidade aumenta.\n"
      ],
      "metadata": {
        "id": "70Vx8BucmaJ2"
      }
    },
    {
      "cell_type": "markdown",
      "source": [
        "# **Referências**\n",
        "\n",
        "PUGA, Mohamed. PyGAD Documentation. Disponível em: https://pygad.readthedocs.io/en/latest/.\n",
        "\n",
        "SCIPY. SciPy.optimize: Genetic Algorithms. Disponível em: https://docs.scipy.org/doc/scipy/reference/optimize.html."
      ],
      "metadata": {
        "id": "7LtXrRFr4hg3"
      }
    },
    {
      "cell_type": "markdown",
      "metadata": {
        "id": "8crUBC3IQ3U_"
      },
      "source": [
        "---"
      ]
    },
    {
      "cell_type": "code",
      "metadata": {
        "id": "BluFtfHuCGzm",
        "cellView": "form"
      },
      "source": [
        "#@title **Avaliação**\n",
        "Resumo = 10 #@param {type:\"slider\", min:0, max:10, step:1}\n",
        "\n",
        "Descricao_solucao = 7 #@param {type:\"slider\", min:0, max:10, step:1}\n",
        "\n",
        "Implementacao = 9 #@param {type:\"slider\", min:0, max:10, step:1}\n",
        "\n",
        "Resultados = 6 #@param {type:\"slider\", min:0, max:10, step:1}\n",
        "\n",
        "Referencias = 7 #@param {type:\"slider\", min:0, max:10, step:1}\n",
        "\n",
        "Geral = 7 #@param {type:\"slider\", min:0, max:10, step:1}\n",
        "\n",
        "\n",
        "\n",
        "\n",
        "\n",
        "\n"
      ],
      "execution_count": null,
      "outputs": []
    },
    {
      "cell_type": "code",
      "metadata": {
        "colab": {
          "base_uri": "https://localhost:8080/",
          "height": 160
        },
        "id": "2Gqw7hUZHyle",
        "cellView": "form",
        "outputId": "e896348a-871b-49c2-9a36-e50a105ee615"
      },
      "source": [
        "#@title **Nota Final**\n",
        "nota = Resumo + Descricao_solucao + Implementacao + Resultados + Referencias + Geral\n",
        "\n",
        "nota = nota / 6\n",
        "\n",
        "print(f'Nota final do trabalho {nota :.1f}')\n",
        "\n",
        "import numpy as np\n",
        "import pandas as pd\n",
        "\n",
        "alunos = pd.DataFrame()\n",
        "\n",
        "lista_tia = []\n",
        "lista_nome = []\n",
        "\n",
        "for i in range(1,6):\n",
        "  exec(\"if Aluno\" + str(i) + \" !='None':  lista = Aluno\" + str(i) + \".split(','); lista_tia.append(lista[0]); lista_nome.append(lista[1].upper())\")\n",
        "\n",
        "alunos['tia'] = lista_tia\n",
        "alunos['nome'] = lista_nome\n",
        "alunos['nota'] = np.round(nota,1)\n",
        "print()\n",
        "display(alunos)"
      ],
      "execution_count": null,
      "outputs": [
        {
          "output_type": "stream",
          "name": "stdout",
          "text": [
            "Nota final do trabalho 7.7\n",
            "\n"
          ]
        },
        {
          "output_type": "display_data",
          "data": {
            "text/plain": [
              "       tia              nome  nota\n",
              "0  1115665    ADRIANA FUJITA   7.7\n",
              "1  1115677   DANIEL HENRIQUE   7.7"
            ],
            "text/html": [
              "\n",
              "  <div id=\"df-a23f973d-3767-4e1a-9508-a42ab95f4616\" class=\"colab-df-container\">\n",
              "    <div>\n",
              "<style scoped>\n",
              "    .dataframe tbody tr th:only-of-type {\n",
              "        vertical-align: middle;\n",
              "    }\n",
              "\n",
              "    .dataframe tbody tr th {\n",
              "        vertical-align: top;\n",
              "    }\n",
              "\n",
              "    .dataframe thead th {\n",
              "        text-align: right;\n",
              "    }\n",
              "</style>\n",
              "<table border=\"1\" class=\"dataframe\">\n",
              "  <thead>\n",
              "    <tr style=\"text-align: right;\">\n",
              "      <th></th>\n",
              "      <th>tia</th>\n",
              "      <th>nome</th>\n",
              "      <th>nota</th>\n",
              "    </tr>\n",
              "  </thead>\n",
              "  <tbody>\n",
              "    <tr>\n",
              "      <th>0</th>\n",
              "      <td>1115665</td>\n",
              "      <td>ADRIANA FUJITA</td>\n",
              "      <td>7.7</td>\n",
              "    </tr>\n",
              "    <tr>\n",
              "      <th>1</th>\n",
              "      <td>1115677</td>\n",
              "      <td>DANIEL HENRIQUE</td>\n",
              "      <td>7.7</td>\n",
              "    </tr>\n",
              "  </tbody>\n",
              "</table>\n",
              "</div>\n",
              "    <div class=\"colab-df-buttons\">\n",
              "\n",
              "  <div class=\"colab-df-container\">\n",
              "    <button class=\"colab-df-convert\" onclick=\"convertToInteractive('df-a23f973d-3767-4e1a-9508-a42ab95f4616')\"\n",
              "            title=\"Convert this dataframe to an interactive table.\"\n",
              "            style=\"display:none;\">\n",
              "\n",
              "  <svg xmlns=\"http://www.w3.org/2000/svg\" height=\"24px\" viewBox=\"0 -960 960 960\">\n",
              "    <path d=\"M120-120v-720h720v720H120Zm60-500h600v-160H180v160Zm220 220h160v-160H400v160Zm0 220h160v-160H400v160ZM180-400h160v-160H180v160Zm440 0h160v-160H620v160ZM180-180h160v-160H180v160Zm440 0h160v-160H620v160Z\"/>\n",
              "  </svg>\n",
              "    </button>\n",
              "\n",
              "  <style>\n",
              "    .colab-df-container {\n",
              "      display:flex;\n",
              "      gap: 12px;\n",
              "    }\n",
              "\n",
              "    .colab-df-convert {\n",
              "      background-color: #E8F0FE;\n",
              "      border: none;\n",
              "      border-radius: 50%;\n",
              "      cursor: pointer;\n",
              "      display: none;\n",
              "      fill: #1967D2;\n",
              "      height: 32px;\n",
              "      padding: 0 0 0 0;\n",
              "      width: 32px;\n",
              "    }\n",
              "\n",
              "    .colab-df-convert:hover {\n",
              "      background-color: #E2EBFA;\n",
              "      box-shadow: 0px 1px 2px rgba(60, 64, 67, 0.3), 0px 1px 3px 1px rgba(60, 64, 67, 0.15);\n",
              "      fill: #174EA6;\n",
              "    }\n",
              "\n",
              "    .colab-df-buttons div {\n",
              "      margin-bottom: 4px;\n",
              "    }\n",
              "\n",
              "    [theme=dark] .colab-df-convert {\n",
              "      background-color: #3B4455;\n",
              "      fill: #D2E3FC;\n",
              "    }\n",
              "\n",
              "    [theme=dark] .colab-df-convert:hover {\n",
              "      background-color: #434B5C;\n",
              "      box-shadow: 0px 1px 3px 1px rgba(0, 0, 0, 0.15);\n",
              "      filter: drop-shadow(0px 1px 2px rgba(0, 0, 0, 0.3));\n",
              "      fill: #FFFFFF;\n",
              "    }\n",
              "  </style>\n",
              "\n",
              "    <script>\n",
              "      const buttonEl =\n",
              "        document.querySelector('#df-a23f973d-3767-4e1a-9508-a42ab95f4616 button.colab-df-convert');\n",
              "      buttonEl.style.display =\n",
              "        google.colab.kernel.accessAllowed ? 'block' : 'none';\n",
              "\n",
              "      async function convertToInteractive(key) {\n",
              "        const element = document.querySelector('#df-a23f973d-3767-4e1a-9508-a42ab95f4616');\n",
              "        const dataTable =\n",
              "          await google.colab.kernel.invokeFunction('convertToInteractive',\n",
              "                                                    [key], {});\n",
              "        if (!dataTable) return;\n",
              "\n",
              "        const docLinkHtml = 'Like what you see? Visit the ' +\n",
              "          '<a target=\"_blank\" href=https://colab.research.google.com/notebooks/data_table.ipynb>data table notebook</a>'\n",
              "          + ' to learn more about interactive tables.';\n",
              "        element.innerHTML = '';\n",
              "        dataTable['output_type'] = 'display_data';\n",
              "        await google.colab.output.renderOutput(dataTable, element);\n",
              "        const docLink = document.createElement('div');\n",
              "        docLink.innerHTML = docLinkHtml;\n",
              "        element.appendChild(docLink);\n",
              "      }\n",
              "    </script>\n",
              "  </div>\n",
              "\n",
              "\n",
              "<div id=\"df-7dd98439-fde6-46f8-b8a7-d31f87cc88d6\">\n",
              "  <button class=\"colab-df-quickchart\" onclick=\"quickchart('df-7dd98439-fde6-46f8-b8a7-d31f87cc88d6')\"\n",
              "            title=\"Suggest charts\"\n",
              "            style=\"display:none;\">\n",
              "\n",
              "<svg xmlns=\"http://www.w3.org/2000/svg\" height=\"24px\"viewBox=\"0 0 24 24\"\n",
              "     width=\"24px\">\n",
              "    <g>\n",
              "        <path d=\"M19 3H5c-1.1 0-2 .9-2 2v14c0 1.1.9 2 2 2h14c1.1 0 2-.9 2-2V5c0-1.1-.9-2-2-2zM9 17H7v-7h2v7zm4 0h-2V7h2v10zm4 0h-2v-4h2v4z\"/>\n",
              "    </g>\n",
              "</svg>\n",
              "  </button>\n",
              "\n",
              "<style>\n",
              "  .colab-df-quickchart {\n",
              "      --bg-color: #E8F0FE;\n",
              "      --fill-color: #1967D2;\n",
              "      --hover-bg-color: #E2EBFA;\n",
              "      --hover-fill-color: #174EA6;\n",
              "      --disabled-fill-color: #AAA;\n",
              "      --disabled-bg-color: #DDD;\n",
              "  }\n",
              "\n",
              "  [theme=dark] .colab-df-quickchart {\n",
              "      --bg-color: #3B4455;\n",
              "      --fill-color: #D2E3FC;\n",
              "      --hover-bg-color: #434B5C;\n",
              "      --hover-fill-color: #FFFFFF;\n",
              "      --disabled-bg-color: #3B4455;\n",
              "      --disabled-fill-color: #666;\n",
              "  }\n",
              "\n",
              "  .colab-df-quickchart {\n",
              "    background-color: var(--bg-color);\n",
              "    border: none;\n",
              "    border-radius: 50%;\n",
              "    cursor: pointer;\n",
              "    display: none;\n",
              "    fill: var(--fill-color);\n",
              "    height: 32px;\n",
              "    padding: 0;\n",
              "    width: 32px;\n",
              "  }\n",
              "\n",
              "  .colab-df-quickchart:hover {\n",
              "    background-color: var(--hover-bg-color);\n",
              "    box-shadow: 0 1px 2px rgba(60, 64, 67, 0.3), 0 1px 3px 1px rgba(60, 64, 67, 0.15);\n",
              "    fill: var(--button-hover-fill-color);\n",
              "  }\n",
              "\n",
              "  .colab-df-quickchart-complete:disabled,\n",
              "  .colab-df-quickchart-complete:disabled:hover {\n",
              "    background-color: var(--disabled-bg-color);\n",
              "    fill: var(--disabled-fill-color);\n",
              "    box-shadow: none;\n",
              "  }\n",
              "\n",
              "  .colab-df-spinner {\n",
              "    border: 2px solid var(--fill-color);\n",
              "    border-color: transparent;\n",
              "    border-bottom-color: var(--fill-color);\n",
              "    animation:\n",
              "      spin 1s steps(1) infinite;\n",
              "  }\n",
              "\n",
              "  @keyframes spin {\n",
              "    0% {\n",
              "      border-color: transparent;\n",
              "      border-bottom-color: var(--fill-color);\n",
              "      border-left-color: var(--fill-color);\n",
              "    }\n",
              "    20% {\n",
              "      border-color: transparent;\n",
              "      border-left-color: var(--fill-color);\n",
              "      border-top-color: var(--fill-color);\n",
              "    }\n",
              "    30% {\n",
              "      border-color: transparent;\n",
              "      border-left-color: var(--fill-color);\n",
              "      border-top-color: var(--fill-color);\n",
              "      border-right-color: var(--fill-color);\n",
              "    }\n",
              "    40% {\n",
              "      border-color: transparent;\n",
              "      border-right-color: var(--fill-color);\n",
              "      border-top-color: var(--fill-color);\n",
              "    }\n",
              "    60% {\n",
              "      border-color: transparent;\n",
              "      border-right-color: var(--fill-color);\n",
              "    }\n",
              "    80% {\n",
              "      border-color: transparent;\n",
              "      border-right-color: var(--fill-color);\n",
              "      border-bottom-color: var(--fill-color);\n",
              "    }\n",
              "    90% {\n",
              "      border-color: transparent;\n",
              "      border-bottom-color: var(--fill-color);\n",
              "    }\n",
              "  }\n",
              "</style>\n",
              "\n",
              "  <script>\n",
              "    async function quickchart(key) {\n",
              "      const quickchartButtonEl =\n",
              "        document.querySelector('#' + key + ' button');\n",
              "      quickchartButtonEl.disabled = true;  // To prevent multiple clicks.\n",
              "      quickchartButtonEl.classList.add('colab-df-spinner');\n",
              "      try {\n",
              "        const charts = await google.colab.kernel.invokeFunction(\n",
              "            'suggestCharts', [key], {});\n",
              "      } catch (error) {\n",
              "        console.error('Error during call to suggestCharts:', error);\n",
              "      }\n",
              "      quickchartButtonEl.classList.remove('colab-df-spinner');\n",
              "      quickchartButtonEl.classList.add('colab-df-quickchart-complete');\n",
              "    }\n",
              "    (() => {\n",
              "      let quickchartButtonEl =\n",
              "        document.querySelector('#df-7dd98439-fde6-46f8-b8a7-d31f87cc88d6 button');\n",
              "      quickchartButtonEl.style.display =\n",
              "        google.colab.kernel.accessAllowed ? 'block' : 'none';\n",
              "    })();\n",
              "  </script>\n",
              "</div>\n",
              "\n",
              "  <div id=\"id_d33a3e98-4089-47ce-a56c-5884fcee9572\">\n",
              "    <style>\n",
              "      .colab-df-generate {\n",
              "        background-color: #E8F0FE;\n",
              "        border: none;\n",
              "        border-radius: 50%;\n",
              "        cursor: pointer;\n",
              "        display: none;\n",
              "        fill: #1967D2;\n",
              "        height: 32px;\n",
              "        padding: 0 0 0 0;\n",
              "        width: 32px;\n",
              "      }\n",
              "\n",
              "      .colab-df-generate:hover {\n",
              "        background-color: #E2EBFA;\n",
              "        box-shadow: 0px 1px 2px rgba(60, 64, 67, 0.3), 0px 1px 3px 1px rgba(60, 64, 67, 0.15);\n",
              "        fill: #174EA6;\n",
              "      }\n",
              "\n",
              "      [theme=dark] .colab-df-generate {\n",
              "        background-color: #3B4455;\n",
              "        fill: #D2E3FC;\n",
              "      }\n",
              "\n",
              "      [theme=dark] .colab-df-generate:hover {\n",
              "        background-color: #434B5C;\n",
              "        box-shadow: 0px 1px 3px 1px rgba(0, 0, 0, 0.15);\n",
              "        filter: drop-shadow(0px 1px 2px rgba(0, 0, 0, 0.3));\n",
              "        fill: #FFFFFF;\n",
              "      }\n",
              "    </style>\n",
              "    <button class=\"colab-df-generate\" onclick=\"generateWithVariable('alunos')\"\n",
              "            title=\"Generate code using this dataframe.\"\n",
              "            style=\"display:none;\">\n",
              "\n",
              "  <svg xmlns=\"http://www.w3.org/2000/svg\" height=\"24px\"viewBox=\"0 0 24 24\"\n",
              "       width=\"24px\">\n",
              "    <path d=\"M7,19H8.4L18.45,9,17,7.55,7,17.6ZM5,21V16.75L18.45,3.32a2,2,0,0,1,2.83,0l1.4,1.43a1.91,1.91,0,0,1,.58,1.4,1.91,1.91,0,0,1-.58,1.4L9.25,21ZM18.45,9,17,7.55Zm-12,3A5.31,5.31,0,0,0,4.9,8.1,5.31,5.31,0,0,0,1,6.5,5.31,5.31,0,0,0,4.9,4.9,5.31,5.31,0,0,0,6.5,1,5.31,5.31,0,0,0,8.1,4.9,5.31,5.31,0,0,0,12,6.5,5.46,5.46,0,0,0,6.5,12Z\"/>\n",
              "  </svg>\n",
              "    </button>\n",
              "    <script>\n",
              "      (() => {\n",
              "      const buttonEl =\n",
              "        document.querySelector('#id_d33a3e98-4089-47ce-a56c-5884fcee9572 button.colab-df-generate');\n",
              "      buttonEl.style.display =\n",
              "        google.colab.kernel.accessAllowed ? 'block' : 'none';\n",
              "\n",
              "      buttonEl.onclick = () => {\n",
              "        google.colab.notebook.generateWithVariable('alunos');\n",
              "      }\n",
              "      })();\n",
              "    </script>\n",
              "  </div>\n",
              "\n",
              "    </div>\n",
              "  </div>\n"
            ],
            "application/vnd.google.colaboratory.intrinsic+json": {
              "type": "dataframe",
              "variable_name": "alunos",
              "summary": "{\n  \"name\": \"alunos\",\n  \"rows\": 2,\n  \"fields\": [\n    {\n      \"column\": \"tia\",\n      \"properties\": {\n        \"dtype\": \"string\",\n        \"num_unique_values\": 2,\n        \"samples\": [\n          \"1115677\",\n          \"1115665\"\n        ],\n        \"semantic_type\": \"\",\n        \"description\": \"\"\n      }\n    },\n    {\n      \"column\": \"nome\",\n      \"properties\": {\n        \"dtype\": \"string\",\n        \"num_unique_values\": 2,\n        \"samples\": [\n          \" DANIEL HENRIQUE\",\n          \" ADRIANA FUJITA\"\n        ],\n        \"semantic_type\": \"\",\n        \"description\": \"\"\n      }\n    },\n    {\n      \"column\": \"nota\",\n      \"properties\": {\n        \"dtype\": \"number\",\n        \"std\": 0.0,\n        \"min\": 7.7,\n        \"max\": 7.7,\n        \"num_unique_values\": 1,\n        \"samples\": [\n          7.7\n        ],\n        \"semantic_type\": \"\",\n        \"description\": \"\"\n      }\n    }\n  ]\n}"
            }
          },
          "metadata": {}
        }
      ]
    }
  ]
}